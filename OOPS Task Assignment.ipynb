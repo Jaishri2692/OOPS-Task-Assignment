{
 "cells": [
  {
   "cell_type": "code",
   "execution_count": 28,
   "id": "bfc7f691-edc6-4376-b007-c36d40a74350",
   "metadata": {},
   "outputs": [],
   "source": [
    "# Q1 Create a vehicle class with an init method having instance variables as name_of_vehicle, max_speed\n",
    "# and average_of_vehicle.\n",
    "class Vehicle():\n",
    "    \"\"\"To model a basic vehicle\"\"\"\n",
    "    \n",
    "    def __init__(self, name, max_speed, millage):\n",
    "        \"\"\"Initiate class variables\"\"\"\n",
    "        self.name = name\n",
    "        self.max_speed = max_speed\n",
    "        self.millage = millage\n",
    "        self.tyre = Tyre()\n",
    "        \n",
    "    def vehicle_details(self):\n",
    "        \"\"\"display vehicle details\"\"\"\n",
    "        return f\"\\nName: {self.name.title()}, Max speed: {self.max_speed}MPH, Millage: {self.millage} \""
   ]
  },
  {
   "cell_type": "code",
   "execution_count": 29,
   "id": "e06dc59c-440d-4b2c-9ffb-879a59a69ba0",
   "metadata": {},
   "outputs": [],
   "source": [
    "# Q2. Create a child class car from the vehicle class created in Que 1, which will inherit the vehicle class.\n",
    "# Create a method named seating_capacity which takes capacity as an argument and returns the name of\n",
    "# the vehicle and its seating capacity."
   ]
  },
  {
   "cell_type": "code",
   "execution_count": 38,
   "id": "64c4c864-dd0c-48ed-accb-b52d20d05dd9",
   "metadata": {},
   "outputs": [
    {
     "name": "stdout",
     "output_type": "stream",
     "text": [
      "Total Bus fare is: 400\n"
     ]
    }
   ],
   "source": [
    "class Vehicle:\n",
    "    def __init__(self, name, mileage, capacity):\n",
    "        self.name = name\n",
    "        self.mileage = mileage\n",
    "        self.capacity = capacity\n",
    "\n",
    "    def fare(self):\n",
    "        return self.capacity * 100\n",
    "\n",
    "class Car(Vehicle):\n",
    "    pass\n",
    "\n",
    "School_car = Car(\"School Volvo\", 12, 4)\n",
    "print(\"Total Bus fare is:\", School_car.fare())"
   ]
  },
  {
   "cell_type": "code",
   "execution_count": 39,
   "id": "46d580b0-7025-45d2-8da7-1a450b57a216",
   "metadata": {},
   "outputs": [
    {
     "name": "stdout",
     "output_type": "stream",
     "text": [
      "Father : Dr. Sitesh Kumar Singh\n",
      "Mother : Dr. Jaishri Gothania\n"
     ]
    }
   ],
   "source": [
    "# Q3. What is multiple inheritance? Write a python code to demonstrate multiple inheritance.\n",
    "\n",
    "# This inheritance enables a child class to inherit from more than one parent class. \n",
    "# This type of inheritance is not supported by java classes, but python does support this kind of inheritance. \n",
    "# It has a massive advantage if we have a requirement of gathering multiple characteristics from different classes.\n",
    "\n",
    "# Base class1\n",
    "class Mother:\n",
    "    mothername = \"\"\n",
    " \n",
    "    def mother(self):\n",
    "        print(self.mothername)\n",
    "# Base class2\n",
    "class Father:\n",
    "    fathername = \"\"\n",
    " \n",
    "    def father(self):\n",
    "        print(self.fathername)\n",
    "# Derived class\n",
    "class Daughter(Mother, Father):\n",
    "    def parents(self):\n",
    "        print(\"Father :\", self.fathername)\n",
    "        print(\"Mother :\", self.mothername)\n",
    " \n",
    " \n",
    "# Driver's code\n",
    "d1 = Daughter()\n",
    "d1.fathername = \"Dr. Sitesh Kumar Singh\"\n",
    "d1.mothername = \"Dr. Jaishri Gothania\"\n",
    "d1.parents()"
   ]
  },
  {
   "cell_type": "code",
   "execution_count": null,
   "id": "aa7856ba-3f88-495d-9c51-94a4bf30f83d",
   "metadata": {},
   "outputs": [],
   "source": [
    "# Q4. What are getter and setter in python? Create a class and create a getter and a setter method in this class.\n",
    "\n",
    "# Getters and Setters in python are often used when:\n",
    "\n",
    "# We use getters & setters to add validation logic around getting and setting a value.\n",
    "# To avoid direct access of a class field i.e. private variables cannot be accessed directly\n",
    "# or modified by external user."
   ]
  },
  {
   "cell_type": "code",
   "execution_count": 45,
   "id": "8c1b32cf-cbc6-4215-bc73-cc53424b54b1",
   "metadata": {},
   "outputs": [
    {
     "name": "stdout",
     "output_type": "stream",
     "text": [
      "setter method called\n",
      "getter method called\n",
      "10\n"
     ]
    }
   ],
   "source": [
    "# Python program showing a use of get() and set() method in normal function\n",
    "  #Python program showing a use of property() function\n",
    "  \n",
    "class ABC:\n",
    "     def __init__(self):\n",
    "          self._age = 0\n",
    "       \n",
    "     # function to get value of _age\n",
    "     def get_age(self):\n",
    "         print(\"getter method called\")\n",
    "         return self._age\n",
    "       \n",
    "     # function to set value of _age\n",
    "     def set_age(self, a):\n",
    "         print(\"setter method called\")\n",
    "         self._age = a\n",
    "  \n",
    "     # function to delete _age attribute\n",
    "     def del_age(self):\n",
    "         del self._age\n",
    "     \n",
    "     age = property(get_age, set_age, del_age) \n",
    "  \n",
    "mark = ABC()\n",
    "  \n",
    "mark.age = 10\n",
    "  \n",
    "print(mark.age)"
   ]
  },
  {
   "cell_type": "code",
   "execution_count": null,
   "id": "e8934958-206e-4fed-87eb-02e18fa6fd51",
   "metadata": {},
   "outputs": [],
   "source": [
    "# Q5.What is method overriding in python? Write a python code to demonstrate method overriding.\n",
    "\"\"\"\n",
    "When a method in a subclass has the same name, same parameters or signature and same return type(or sub-type)\n",
    "as a method in its super-class, then the method in the subclass is said to override the method in the super-class.\n",
    "\"\"\""
   ]
  },
  {
   "cell_type": "code",
   "execution_count": 46,
   "id": "3bfa3f91-ac96-4796-af5b-1681853b1eb1",
   "metadata": {},
   "outputs": [
    {
     "name": "stdout",
     "output_type": "stream",
     "text": [
      "Inside Parent\n",
      "Inside Child\n"
     ]
    }
   ],
   "source": [
    "# Defining parent class\n",
    "class Parent():\n",
    "      \n",
    "    # Constructor\n",
    "    def __init__(self):\n",
    "        self.value = \"Inside Parent\"\n",
    "          \n",
    "    # Parent's show method\n",
    "    def show(self):\n",
    "        print(self.value)\n",
    "          \n",
    "# Defining child class\n",
    "class Child(Parent):\n",
    "      \n",
    "    # Constructor\n",
    "    def __init__(self):\n",
    "        self.value = \"Inside Child\"\n",
    "          \n",
    "    # Child's show method\n",
    "    def show(self):\n",
    "        print(self.value)\n",
    "                \n",
    "# Driver's code\n",
    "obj1 = Parent()\n",
    "obj2 = Child()\n",
    "  \n",
    "obj1.show()\n",
    "obj2.show()"
   ]
  },
  {
   "cell_type": "code",
   "execution_count": null,
   "id": "b2031e49-7188-4a23-9688-d45f18b9c427",
   "metadata": {},
   "outputs": [],
   "source": []
  }
 ],
 "metadata": {
  "kernelspec": {
   "display_name": "Python 3 (ipykernel)",
   "language": "python",
   "name": "python3"
  },
  "language_info": {
   "codemirror_mode": {
    "name": "ipython",
    "version": 3
   },
   "file_extension": ".py",
   "mimetype": "text/x-python",
   "name": "python",
   "nbconvert_exporter": "python",
   "pygments_lexer": "ipython3",
   "version": "3.10.8"
  }
 },
 "nbformat": 4,
 "nbformat_minor": 5
}
